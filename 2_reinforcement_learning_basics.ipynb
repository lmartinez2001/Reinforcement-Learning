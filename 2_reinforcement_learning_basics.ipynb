{
 "cells": [
  {
   "cell_type": "markdown",
   "metadata": {},
   "source": [
    "# Reinforcement Learning basics\n",
    "\n",
    "*Louis Martinez*\n",
    "\n",
    "[Link to the book](./Articles/rl-book.pdf)\n",
    "\n",
    "This notebook is the beginning of a deep dive into Reinforcement Learning theory.  \n",
    "For now it mainly focuses on function approximation and the various approaches mentioned in the Sutton and Barto's book.  \n",
    "The next parts of this notebook will be dedicated to the implemation of several algorithms from the book, with a special focus on the distinction between on-policy and off-policy learning and its implications"
   ]
  },
  {
   "cell_type": "code",
   "execution_count": 1,
   "metadata": {},
   "outputs": [],
   "source": [
    "import numpy as np\n",
    "from tqdm import tqdm\n",
    "import matplotlib.pyplot as plt\n",
    "import copy\n",
    "import random\n",
    "\n",
    "np.random.seed(0)\n",
    "random.seed(0)"
   ]
  },
  {
   "cell_type": "markdown",
   "metadata": {},
   "source": [
    "---\n",
    "## Defning the environment for the whole notebook\n",
    "\n",
    "All the following theorical elements developed in this notebook will be tested on a Random Walk environment.  \n",
    "One choose this experiment firstly because it is widely used by Sutton and Barto in their book as the way to illustrate core concepts. Then it is an easy to manipulate, one-dimensional problem.  \n",
    "Hence graphical results can intuitively be interpreted so theorical concepts get easier to understand."
   ]
  },
  {
   "cell_type": "code",
   "execution_count": 2,
   "metadata": {},
   "outputs": [
    {
     "name": "stdout",
     "output_type": "stream",
     "text": [
      "Walk interval : [0.00, 5.00]\n",
      "Starting state : 4.00\n"
     ]
    }
   ],
   "source": [
    "class RandomWalkEnv:\n",
    "\n",
    "    def __init__(self, x_min, x_max):\n",
    "        self.x_min = x_min\n",
    "        self.x_max = x_max\n",
    "        self.x_start = 4 * (self.x_max - self.x_min) / 5\n",
    "        self.current_state = self.x_start\n",
    "\n",
    "    def step(self, action):\n",
    "        new_state = np.clip(self.current_state + action, self.x_min, self.x_max)\n",
    "\n",
    "        # Avoid out of bound\n",
    "        # if new_state < self.x_min:\n",
    "        #     new_state = self.x_min\n",
    "        # elif new_state > self.x_max:\n",
    "        #     new_state = self.x_max\n",
    "\n",
    "        # Compute reward\n",
    "        reward = 0\n",
    "        if new_state == self.x_min:\n",
    "            reward = -1\n",
    "        elif new_state == self.x_max:\n",
    "            reward = 1\n",
    "\n",
    "        self.current_state = new_state\n",
    "\n",
    "        return reward, new_state\n",
    "\n",
    "\n",
    "    def is_terminal_state(self):\n",
    "        return not(self.x_min < self.current_state < self.x_max)\n",
    "\n",
    "\n",
    "    def random_action_policy(self):\n",
    "        # return np.random.uniform(-(self.x_max-self.x_min)/10, (self.x_max-self.x_min)/10)\n",
    "        return np.random.choice([-1, 1])\n",
    "\n",
    "\n",
    "    def reset(self):\n",
    "        self.current_state = self.x_start\n",
    "\n",
    "    \n",
    "    def random_x_start(self):\n",
    "        # return np.random.uniform(low=self.x_min, high=self.x_max)\n",
    "        return np.random.randint(low=self.x_min, high=self.x_max-1)\n",
    "\n",
    "    \n",
    "    def info(self):\n",
    "        print(f'Walk interval : [{self.x_min:.2f}, {self.x_max:.2f}]')\n",
    "        print(f'Starting state : {self.x_start:.2f}')\n",
    "\n",
    "\n",
    "env = RandomWalkEnv(0., 5.)\n",
    "env.info()"
   ]
  },
  {
   "cell_type": "markdown",
   "metadata": {},
   "source": [
    "## Funtion Approximation\n",
    "\n",
    "This section will be dedicated to function approximation.  \n",
    "Function approcimation is one of the core concepts of Reinforcement Learning. As the quality of an action (given a state) chosen by an agent is quantified by either the V-funtion, or the Q-function (difference not developed here as it is widely covered by the book), one must find a way to approximate the latter.  \n",
    "Here we'll be experimenting different fucntion approximation methods (except deep-learning)"
   ]
  },
  {
   "cell_type": "markdown",
   "metadata": {},
   "source": [
    "### Tile Coding (state aggregation)"
   ]
  },
  {
   "cell_type": "code",
   "execution_count": 3,
   "metadata": {},
   "outputs": [],
   "source": [
    "n_tiles = 10\n",
    "tile_size = (env.x_max - env.x_min) / n_tiles\n",
    "\n",
    "alpha = 0.2/n_tiles\n",
    "gamma = 0.95 # Discount factor\n",
    "\n",
    "def value_func(s, w):\n",
    "    return np.dot(s, w)"
   ]
  },
  {
   "cell_type": "code",
   "execution_count": 4,
   "metadata": {},
   "outputs": [],
   "source": [
    "def encode_tile(x):\n",
    "\n",
    "    assert env.x_min <= x <= env.x_max\n",
    "\n",
    "\n",
    "    feature_vector = np.zeros(n_tiles)\n",
    "\n",
    "    if x == env.x_max:\n",
    "        feature_vector[-1] = 1\n",
    "    else:\n",
    "        tile_index = int((x - env.x_min) / tile_size)\n",
    "        feature_vector[tile_index] = 1\n",
    "\n",
    "    return feature_vector"
   ]
  },
  {
   "cell_type": "code",
   "execution_count": 5,
   "metadata": {},
   "outputs": [
    {
     "name": "stderr",
     "output_type": "stream",
     "text": [
      "  5%|▌         | 1610/30000 [00:00<00:05, 5183.85it/s]"
     ]
    },
    {
     "name": "stderr",
     "output_type": "stream",
     "text": [
      "100%|██████████| 30000/30000 [00:04<00:00, 6355.33it/s]\n"
     ]
    }
   ],
   "source": [
    "env.reset()\n",
    "\n",
    "n_episodes = 30_000\n",
    "\n",
    "V = value_func # To match notations of the book\n",
    "\n",
    "def greedy(s, eps, weights, encode_func):\n",
    "    if np.random.uniform() >= eps:\n",
    "        return env.random_action_policy()\n",
    "    else:\n",
    "        possible_actions = np.linspace(-(env.x_max-env.x_min)/10, (env.x_max-env.x_min)/10, 5)\n",
    "        v_values = np.zeros(possible_actions.shape[0])\n",
    "\n",
    "        for i, action in enumerate(possible_actions):\n",
    "            next_state = encode_func(np.clip(s + action, env.x_min, env.x_max))\n",
    "            v_values[i] = V(next_state,weights)\n",
    "\n",
    "        action = np.argmax(v_values)\n",
    "        return action\n",
    "\n",
    "\n",
    "\n",
    "\n",
    "\n",
    "def find_V_func(n_episodes, encode_func, n_features):\n",
    "    weights = np.zeros(n_features) # Theta\n",
    "\n",
    "    for ep in tqdm(range(n_episodes)):\n",
    "        # s = env.x_start # Initial state\n",
    "        s = env.random_x_start() # Initial state\n",
    "\n",
    "        while env.x_min < s < env.x_max: # While s is not terminal\n",
    "\n",
    "            # Action given by pi for s\n",
    "            a = env.random_action_policy()\n",
    "            # a = greedy(s, 0.9, weights, encode_func)\n",
    "\n",
    "            # Observe reward r and next_state s'\n",
    "            reward, new_s = env.step(a)\n",
    "\n",
    "            # s_encoded = encode_tile(s)\n",
    "            # new_s_encoded = encode_tile(new_s)\n",
    "            s_encoded = encode_func(s)\n",
    "            new_s_encoded = encode_func(new_s)\n",
    "\n",
    "            v_s = V(s_encoded, weights)\n",
    "            V_new_s = V(new_s_encoded, weights)\n",
    "\n",
    "            old_weights = weights\n",
    "\n",
    "            weights = weights + alpha*(reward + gamma * V_new_s - v_s) * s_encoded\n",
    "\n",
    "            s = new_s\n",
    "\n",
    "    return weights\n",
    "\n",
    "weights = find_V_func(n_episodes, encode_tile, n_tiles)"
   ]
  },
  {
   "cell_type": "code",
   "execution_count": 6,
   "metadata": {},
   "outputs": [
    {
     "data": {
      "text/plain": [
       "[<matplotlib.lines.Line2D at 0x15e403a8c10>]"
      ]
     },
     "execution_count": 6,
     "metadata": {},
     "output_type": "execute_result"
    },
    {
     "data": {
      "image/png": "[encoded data removed]",
      "text/plain": [
       "<Figure size 432x288 with 1 Axes>"
      ]
     },
     "metadata": {
      "needs_background": "light"
     },
     "output_type": "display_data"
    }
   ],
   "source": [
    "# test_data = np.sort(np.random.uniform(env.x_min, env.x_max, 500))\n",
    "test_data = np.linspace(env.x_min, env.x_max, 500)\n",
    "res = []\n",
    "\n",
    "for x in test_data:\n",
    "    encoded = encode_tile(x)\n",
    "    res.append(V(encoded, weights))\n",
    "\n",
    "plt.plot(res)"
   ]
  },
  {
   "cell_type": "markdown",
   "metadata": {},
   "source": [
    "### Function approximation with multiple tile coding (coarse-to-fine coding)"
   ]
  },
  {
   "cell_type": "code",
   "execution_count": 7,
   "metadata": {},
   "outputs": [
    {
     "ename": "SyntaxError",
     "evalue": "invalid syntax (3651042575.py, line 15)",
     "output_type": "error",
     "traceback": [
      "\u001b[1;36m  Input \u001b[1;32mIn [7]\u001b[1;36m\u001b[0m\n\u001b[1;33m    tile_index =\u001b[0m\n\u001b[1;37m                 ^\u001b[0m\n\u001b[1;31mSyntaxError\u001b[0m\u001b[1;31m:\u001b[0m invalid syntax\n"
     ]
    }
   ],
   "source": [
    "# n_tiles = 5\n",
    "# n_tilings = 4\n",
    "\n",
    "# def multi_tile_encode(x, n_tiles, n_tilings, offset_ratio=0.2):\n",
    "\n",
    "#     assert env.x_min <= x <= env.x_max\n",
    "\n",
    "#     x_start = env.x_start\n",
    "\n",
    "#     encoded = np.zeros(n_tilings * n_tiles)\n",
    "\n",
    "#     tile_size = (env.x_max - env.x_min) / n_tiles\n",
    "\n",
    "#     for i in range(n_tilings):\n",
    "#         tile_index = \n",
    "\n",
    "    \n",
    "    "
   ]
  },
  {
   "cell_type": "markdown",
   "metadata": {},
   "source": [
    "### Function approximation with RBF"
   ]
  },
  {
   "cell_type": "code",
   "execution_count": null,
   "metadata": {},
   "outputs": [],
   "source": [
    "n_features = 10\n",
    "param = 3.\n",
    "\n",
    "def RBF_encode(x):\n",
    "    vals = np.linspace(env.x_min, env.x_max, n_features)\n",
    "    norm = np.abs(vals - x)\n",
    "\n",
    "    encoded = np.exp(-(param*norm)**2)\n",
    "\n",
    "    return encoded"
   ]
  },
  {
   "cell_type": "code",
   "execution_count": null,
   "metadata": {},
   "outputs": [
    {
     "name": "stderr",
     "output_type": "stream",
     "text": [
      "100%|██████████| 30000/30000 [00:42<00:00, 712.52it/s]\n"
     ]
    }
   ],
   "source": [
    "env.reset()\n",
    "n_episodes = 30_000\n",
    "\n",
    "weights_rbf = find_V_func(n_episodes, RBF_encode, n_features)"
   ]
  },
  {
   "cell_type": "code",
   "execution_count": null,
   "metadata": {},
   "outputs": [
    {
     "data": {
      "text/plain": [
       "[<matplotlib.lines.Line2D at 0x1f5e89d1cc0>]"
      ]
     },
     "execution_count": 9,
     "metadata": {},
     "output_type": "execute_result"
    },
    {
     "data": {
      "image/png": "[encoded data removed]",
      "text/plain": [
       "<Figure size 432x288 with 1 Axes>"
      ]
     },
     "metadata": {
      "needs_background": "light"
     },
     "output_type": "display_data"
    }
   ],
   "source": [
    "test_data = np.linspace(env.x_min, env.x_max, 500)\n",
    "res = []\n",
    "\n",
    "for x in test_data:\n",
    "    encoded = RBF_encode(x)\n",
    "    res.append(V(encoded, weights_rbf))\n",
    "\n",
    "plt.plot(res)"
   ]
  }
 ],
 "metadata": {
  "kernelspec": {
   "display_name": "main-venv",
   "language": "python",
   "name": "python3"
  },
  "language_info": {
   "codemirror_mode": {
    "name": "ipython",
    "version": 3
   },
   "file_extension": ".py",
   "mimetype": "text/x-python",
   "name": "python",
   "nbconvert_exporter": "python",
   "pygments_lexer": "ipython3",
   "version": "3.10.2"
  },
  "orig_nbformat": 4
 },
 "nbformat": 4,
 "nbformat_minor": 2
}
