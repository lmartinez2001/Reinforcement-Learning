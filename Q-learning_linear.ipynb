{
 "cells": [
  {
   "cell_type": "markdown",
   "metadata": {},
   "source": [
    "# Q-learning with linear policy approximation"
   ]
  },
  {
   "cell_type": "code",
   "execution_count": 1,
   "metadata": {},
   "outputs": [],
   "source": [
    "import gymnasium as gym\n",
    "import numpy as np\n",
    "import matplotlib.pyplot as plt\n",
    "from tqdm import tqdm"
   ]
  },
  {
   "cell_type": "markdown",
   "metadata": {},
   "source": [
    "## Reminders\n",
    "\n",
    "Standard Q-learning update :\n",
    "$$Q(s_{t+1}, a_{t+1})\\leftarrow (1-\\alpha)Q(s_t, a_t) + \\alpha\\,\\left[R(s_t,a_t,s_{t+1})+\\gamma\\,\\underset{a'}{max}\\,Q(s_{t+1}, a')\\right]$$\n",
    "\n",
    "Linear approximation of $Q$ :\n",
    "$$Q(s,a)=\\theta_0 + \\theta_1 \\phi_1 + ... + \\theta_n \\phi_n = \\theta^T \\phi$$\n",
    "\n",
    "Loss \n",
    "\n",
    "Parameter update :\n",
    "$$\\theta^{(i+1)}\\leftarrow \\theta^{(i)} - \\alpha \\nabla L(\\theta^{(i)})$$"
   ]
  },
  {
   "cell_type": "code",
   "execution_count": 40,
   "metadata": {},
   "outputs": [],
   "source": [
    "class Agent:\n",
    "\n",
    "    def __init__(self, action_dim, state_dim, n_features, discount=0.99, rbf_param=0.1, epsilon=0.1):\n",
    "        self.n_features = n_features\n",
    "        self.rbf_param = rbf_param\n",
    "        self.rbf_centers = np.random.uniform(low=-1., high=1., size=(n_features, state_dim))\n",
    "        self.weights = np.zeros((action_dim, n_features))\n",
    "        self.epsilon = epsilon\n",
    "        self.discount = discount\n",
    "        self.possible_actions = np.arange(action_dim)\n",
    "\n",
    "    def norm2(self, z):\n",
    "        return np.sum(z**2)\n",
    "\n",
    "    def rbf(self, state, center, sigma):\n",
    "        return np.exp(-self.norm2(state-center)) / (2 * sigma**2)\n",
    "\n",
    "\n",
    "    def encode_state(self, state):\n",
    "        \"\"\"Converts a state of shape (state_dim, 1) as a feature vector of shape (n_features, 1)\"\"\"\n",
    "        res = np.zeros(n_features)\n",
    "        for idx,center in enumerate(self.rbf_centers):\n",
    "            res[idx] = rbf(state, center, self.rbf_param)\n",
    "        return res\n",
    "\n",
    "    def choose_action(self, state):\n",
    "        encoded = self.encode_state(state).reshape(-1,1)\n",
    "        if np.random.random() > self.epsilon:\n",
    "            q_values = self.weights @ encoded\n",
    "            action = np.argmax(q_values)\n",
    "            return action\n",
    "        else:\n",
    "            return np.random.choice(self.possible_actions)\n",
    "        \n"
   ]
  },
  {
   "cell_type": "markdown",
   "metadata": {},
   "source": [
    "## Training loop"
   ]
  },
  {
   "cell_type": "code",
   "execution_count": null,
   "metadata": {},
   "outputs": [],
   "source": [
    "env = gym.make('CartPole-v1')\n",
    "agent = Agent(2, 4, 15)\n",
    "n_episodes = 300\n",
    "\n",
    "for ep in range(n_episodes):\n",
    "    state, _ = env.reset()\n",
    "    done = False\n",
    "\n",
    "    while not done:\n",
    "        action = agent.choose_action(state)\n",
    "        next_state, reward, terminated, truncated, _ = env.step(action)\n",
    "\n",
    "        encoded_next_state = agent.encode_state(next_state)\n",
    "\n",
    "\n",
    "        next_q_value = \n",
    "        agent.weights = "
   ]
  },
  {
   "cell_type": "code",
   "execution_count": 36,
   "metadata": {},
   "outputs": [
    {
     "data": {
      "text/plain": [
       "array([[1., 1., 1., 1.],\n",
       "       [1., 1., 1., 1.],\n",
       "       [1., 1., 1., 1.],\n",
       "       [1., 1., 1., 1.]])"
      ]
     },
     "execution_count": 36,
     "metadata": {},
     "output_type": "execute_result"
    }
   ],
   "source": [
    "np.dot(np.ones(4).reshape(-1,1), np.ones(4).reshape(1,-1))"
   ]
  }
 ],
 "metadata": {
  "kernelspec": {
   "display_name": "main-venv",
   "language": "python",
   "name": "python3"
  },
  "language_info": {
   "codemirror_mode": {
    "name": "ipython",
    "version": 3
   },
   "file_extension": ".py",
   "mimetype": "text/x-python",
   "name": "python",
   "nbconvert_exporter": "python",
   "pygments_lexer": "ipython3",
   "version": "3.10.2"
  },
  "orig_nbformat": 4
 },
 "nbformat": 4,
 "nbformat_minor": 2
}
